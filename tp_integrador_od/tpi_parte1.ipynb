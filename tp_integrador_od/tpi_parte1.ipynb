{
  "cells": [
    {
      "attachments": {},
      "cell_type": "markdown",
      "id": "07289bb0",
      "metadata": {},
      "source": [
        "# Trabajo integrador - Parte 1\n",
        "## Python y Numpy\n",
        "\n",
        "**Nombre**:"
      ]
    },
    {
      "cell_type": "code",
      "execution_count": 1,
      "id": "aaf94e0a",
      "metadata": {
        "id": "aaf94e0a"
      },
      "outputs": [],
      "source": [
        "import numpy as np"
      ]
    },
    {
      "attachments": {},
      "cell_type": "markdown",
      "id": "0ffe9554",
      "metadata": {},
      "source": [
        "## Ejercicio 1\n",
        "\n",
        "Dada una matriz en formato *numpy array*, donde cada fila de la matriz representa un vector matemático, se requiere computar las normas $l_0$, $l_1$, $l_2$, $l_{\\infty}$, según la siguientes definiciones:\n",
        "\n",
        "\\begin{equation}\n",
        "    ||\\mathbf{x}||^{p} = \\bigg(\\sum_{j=1}^{n}{|x_i|^p}\\bigg)^{\\frac{1}{p}}\n",
        "\\end{equation}\n",
        "\n",
        "con los casos especiales para $p=0$ y $p=\\infty$ siendo:\n",
        "\n",
        "\\begin{equation}\n",
        "    \\begin{array}{rcl}\n",
        "        ||\\mathbf{x}||_0 & = & \\bigg(\\sum_{j=1 \\wedge x_j != 0}{|x_i|}\\bigg)\\\\\n",
        "        ||\\mathbf{x}||_{\\infty} & = & \\max_{i}{|x_i|}\\\\\n",
        "    \\end{array}\n",
        "\\end{equation}"
      ]
    },
    {
      "cell_type": "code",
      "execution_count": 2,
      "id": "f4faf498",
      "metadata": {},
      "outputs": [],
      "source": [
        "def calc_L0(v: np.array):\n",
        "  return np.count_nonzero(v)\n",
        "\n",
        "def calc_Lp(v: np.array, p: int):\n",
        "  return np.power(np.sum(np.power(v, p)),1/p)\n",
        "\n",
        "def calc_Linf(v: np.array):\n",
        "  return np.max(np.abs(v))"
      ]
    },
    {
      "cell_type": "code",
      "execution_count": 3,
      "id": "fd5fe9a6",
      "metadata": {},
      "outputs": [],
      "source": [
        "#Test:\n",
        "\n",
        "arr = np.asarray([[4, 0, 0], [5, 5, 1], [2, 1, 3]])\n"
      ]
    },
    {
      "cell_type": "code",
      "execution_count": 4,
      "id": "1f693f3d",
      "metadata": {},
      "outputs": [
        {
          "data": {
            "text/plain": [
              "9.0"
            ]
          },
          "execution_count": 4,
          "metadata": {},
          "output_type": "execute_result"
        }
      ],
      "source": [
        "calc_Lp(arr, 2)"
      ]
    },
    {
      "cell_type": "code",
      "execution_count": 5,
      "id": "faa05ee3",
      "metadata": {},
      "outputs": [
        {
          "data": {
            "text/plain": [
              "7"
            ]
          },
          "execution_count": 5,
          "metadata": {},
          "output_type": "execute_result"
        }
      ],
      "source": [
        "calc_L0(arr)"
      ]
    },
    {
      "cell_type": "code",
      "execution_count": 6,
      "id": "7ab15071",
      "metadata": {},
      "outputs": [
        {
          "data": {
            "text/plain": [
              "5"
            ]
          },
          "execution_count": 6,
          "metadata": {},
          "output_type": "execute_result"
        }
      ],
      "source": [
        "calc_Linf(arr)"
      ]
    },
    {
      "attachments": {},
      "cell_type": "markdown",
      "id": "dd66d862",
      "metadata": {},
      "source": [
        "## Ejercicio 2\n",
        "\n",
        "En clasificación contamos con dos arreglos, la “verdad” y la “predicción”. Cada elemento de los arreglos pueden tomar dos valores, “True” (representado por 1) y “False” (representado por 0). Entonces podemos definir 4 variables:\n",
        "\n",
        "* True Positive (TP): El valor verdadero es 1 y el valor predicho es 1\n",
        "* True Negative (TN): El valor verdadero es 0 y el valor predicho es 0\n",
        "* False Positive (FP): El valor verdadero es 0 y el valor predicho es 1\n",
        "* False Negative (FN): El valor verdadero es 1 y el valor predicho es 0\n",
        "\n",
        "A partir de esto definimos:\n",
        "\n",
        "* Precision = TP / (TP + FP)\n",
        "* Recall = TP / (TP + FN)\n",
        "* Accuracy = (TP + TN) / (TP + TN + FP + FN)\n",
        " \n",
        "Calcular las 3 métricas con Numpy y operaciones vectorizadas."
      ]
    },
    {
      "cell_type": "code",
      "execution_count": 7,
      "id": "794dcd58",
      "metadata": {},
      "outputs": [],
      "source": [
        "truth = np.array([1,1,0,1,1,1,0,0,0,1])\n",
        "prediction = np.array([1,1,1,1,0,0,1,1,0,0])"
      ]
    },
    {
      "cell_type": "code",
      "execution_count": 8,
      "id": "3407a9b8",
      "metadata": {},
      "outputs": [
        {
          "name": "stdout",
          "output_type": "stream",
          "text": [
            "precision = 0.5\n",
            "recall = 0.5\n",
            "accuracy = 0.4\n"
          ]
        }
      ],
      "source": [
        "TP = np.sum((truth == 1) & (prediction == 1))\n",
        "FP = np.sum((truth == 0) & (prediction == 1))\n",
        "TN = np.sum((truth == 0) & (prediction == 0))\n",
        "FN = np.sum((truth == 1) & (prediction == 0))\n",
        "\n",
        "precision = TP / (TP + FP)\n",
        "print(f\"precision = {precision}\")\n",
        "\n",
        "recall = TP / (TP + FN)\n",
        "print(f\"recall = {recall}\")\n",
        "\n",
        "accuracy = (TP + TN) / (TP + TN + FP + FN)\n",
        "print(f\"accuracy = {accuracy}\")"
      ]
    },
    {
      "attachments": {},
      "cell_type": "markdown",
      "id": "d0ac6f6f",
      "metadata": {},
      "source": [
        "## Ejercicio 3\n",
        "\n",
        "Crear una función que separe los datos en train-validation-test. Debe recibir de parametros:\n",
        "\n",
        "- X: Array o Dataframe que contiene los datos de entrada del sistema.\n",
        "- y: Array o Dataframe que contiene la(s) variable(s) target del problema.\n",
        "- train_percentage: _float_ el porcentaje de training.\n",
        "- test_percentage: _float_ el porcentaje de testing.\n",
        "- val_percentage: _float_ el porcentaje de validación.\n",
        "- shuffle: _bool_ determina si el split debe hacerse de manera random o no.\n",
        "\n",
        "Hints: \n",
        "\n",
        "* Usar Indexing y slicing\n",
        "* Usar np.random.[...]"
      ]
    },
    {
      "cell_type": "code",
      "execution_count": 9,
      "id": "ca85fc66",
      "metadata": {},
      "outputs": [],
      "source": [
        "def split(X_input,\n",
        "          Y_input,\n",
        "          train_size=0.7,\n",
        "          val_size=0.15,\n",
        "          test_size=0.15,\n",
        "          random_state=42,\n",
        "          shuffle=True):\n",
        "    \n",
        "      if shuffle:\n",
        "            indices = np.random.permutation(len(X_input), random_state = random_state)\n",
        "            X_input = X_input[indices]\n",
        "            Y_input = Y_input[indices]\n",
        "            \n",
        "      total_samples = len(X_input)\n",
        "      train_size = int(total_samples * train_size)\n",
        "      val_size = int(total_samples * val_size)\n",
        "      test_size = total_samples - train_size - val_size\n",
        "\n",
        "      X_train, y_train = X_input[:train_size], Y_input[:train_size]\n",
        "      X_val, y_val = X_input[train_size:(train_size + val_size)], Y_input[train_size:(train_size + val_size)]\n",
        "      X_test, y_test = X_input[test_size:], Y_input[(train_size + val_size):]\n",
        "\n",
        "      \n",
        "\n",
        "\n",
        "      return X_train, y_train, X_val, y_val, X_test, y_test"
      ]
    }
  ],
  "metadata": {
    "colab": {
      "collapsed_sections": [],
      "name": "Practica_clase_3.ipynb",
      "provenance": []
    },
    "kernelspec": {
      "display_name": "Python 3.10.7 64-bit",
      "language": "python",
      "name": "python3"
    },
    "language_info": {
      "codemirror_mode": {
        "name": "ipython",
        "version": 3
      },
      "file_extension": ".py",
      "mimetype": "text/x-python",
      "name": "python",
      "nbconvert_exporter": "python",
      "pygments_lexer": "ipython3",
      "version": "3.10.6"
    },
    "vscode": {
      "interpreter": {
        "hash": "b5c22da4a52024410f64f9c5a5e2b4ffeeb944a5ed00e8825a42174cdab30315"
      }
    }
  },
  "nbformat": 4,
  "nbformat_minor": 5
}
